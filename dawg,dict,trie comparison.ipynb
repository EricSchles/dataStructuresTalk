{
 "metadata": {
  "name": "",
  "signature": "sha256:070b315ec3fdbea0102377d79e653cafbe1d352ec508d0392f7df217c14245ec"
 },
 "nbformat": 3,
 "nbformat_minor": 0,
 "worksheets": [
  {
   "cells": [
    {
     "cell_type": "code",
     "collapsed": false,
     "input": [
      "#efficiency test\n",
      "from Bio import trie\n",
      "from time import time\n",
      "import dawg\n",
      "words = []\n",
      "with open(\"wordlist.txt\",\"r\") as f: # source: http://www-01.sil.org/linguistics/wordlists/english/wordlist/wordsEn.txt\n",
      "    for word in f:\n",
      "        word = word.strip(\"\\n\")\n",
      "        if word == '':\n",
      "            continue\n",
      "        words.append(word)\n",
      "\n",
      "tr = trie.trie()\n",
      "for word in words:\n",
      "    tr[word.encode('utf8')] = len(word)\n",
      "before = time()\n",
      "print tr['really']\n",
      "after = time()\n",
      "print after - before, \"trie\"\n",
      "\n",
      "\n",
      "data = zip(words, (len(w) for w in words))\n",
      "d = dawg.IntDAWG(data)\n",
      "before = time()\n",
      "print d['really']\n",
      "after = time()\n",
      "print after - before, \"dawg\"\n",
      "\n",
      "dicter = {}\n",
      "for word in words:\n",
      "    dicter[word.encode('utf8')] = len(word)\n",
      "\n",
      "before = time()\n",
      "print dicter['really']\n",
      "after = time()\n",
      "print after - before, \"dictionary\""
     ],
     "language": "python",
     "metadata": {},
     "outputs": [
      {
       "output_type": "stream",
       "stream": "stdout",
       "text": [
        "6\n",
        "0.000263929367065 trie\n",
        "6"
       ]
      },
      {
       "output_type": "stream",
       "stream": "stdout",
       "text": [
        "\n",
        "0.0106761455536 dawg\n",
        "6"
       ]
      },
      {
       "output_type": "stream",
       "stream": "stdout",
       "text": [
        "\n",
        "0.0134880542755 dictionary\n"
       ]
      }
     ],
     "prompt_number": 13
    },
    {
     "cell_type": "code",
     "collapsed": false,
     "input": [
      "import dawg\n",
      "import os\n",
      "wordlist_path = os.path.abspath(\"wordlist.txt\")\n",
      "d = dawg.CompletionDAWG()\n",
      "d.load() #look this up for more examples - remove if not complete"
     ],
     "language": "python",
     "metadata": {},
     "outputs": [
      {
       "ename": "MemoryError",
       "evalue": "std::bad_alloc",
       "output_type": "pyerr",
       "traceback": [
        "\u001b[1;31m---------------------------------------------------------------------------\u001b[0m\n\u001b[1;31mMemoryError\u001b[0m                               Traceback (most recent call last)",
        "\u001b[1;32m<ipython-input-13-56e90985399d>\u001b[0m in \u001b[0;36m<module>\u001b[1;34m()\u001b[0m\n\u001b[0;32m      3\u001b[0m \u001b[0mwordlist_path\u001b[0m \u001b[1;33m=\u001b[0m \u001b[0mos\u001b[0m\u001b[1;33m.\u001b[0m\u001b[0mpath\u001b[0m\u001b[1;33m.\u001b[0m\u001b[0mabspath\u001b[0m\u001b[1;33m(\u001b[0m\u001b[1;34m\"wordlist.txt\"\u001b[0m\u001b[1;33m)\u001b[0m\u001b[1;33m\u001b[0m\u001b[0m\n\u001b[0;32m      4\u001b[0m \u001b[0md\u001b[0m \u001b[1;33m=\u001b[0m \u001b[0mdawg\u001b[0m\u001b[1;33m.\u001b[0m\u001b[0mCompletionDAWG\u001b[0m\u001b[1;33m(\u001b[0m\u001b[1;33m)\u001b[0m\u001b[1;33m\u001b[0m\u001b[0m\n\u001b[1;32m----> 5\u001b[1;33m \u001b[0md\u001b[0m\u001b[1;33m.\u001b[0m\u001b[0mload\u001b[0m\u001b[1;33m(\u001b[0m\u001b[0mwordlist_path\u001b[0m\u001b[1;33m.\u001b[0m\u001b[0mencode\u001b[0m\u001b[1;33m(\u001b[0m\u001b[1;34m'utf8'\u001b[0m\u001b[1;33m)\u001b[0m\u001b[1;33m)\u001b[0m\u001b[1;33m\u001b[0m\u001b[0m\n\u001b[0m",
        "\u001b[1;32m/usr/local/lib/python2.7/dist-packages/dawg.so\u001b[0m in \u001b[0;36mdawg.CompletionDAWG.load (src/dawg.cpp:7407)\u001b[1;34m()\u001b[0m\n",
        "\u001b[1;31mMemoryError\u001b[0m: std::bad_alloc"
       ]
      }
     ],
     "prompt_number": 13
    }
   ],
   "metadata": {}
  }
 ]
}